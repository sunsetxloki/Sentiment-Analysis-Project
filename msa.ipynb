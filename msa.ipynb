{
 "cells": [
  {
   "cell_type": "code",
   "execution_count": 1,
   "id": "7291d1a8-4e0e-4f6c-8a54-01a226ded88f",
   "metadata": {},
   "outputs": [
    {
     "name": "stdout",
     "output_type": "stream",
     "text": [
      "c:\\Users\\allei\\Documents\\Movie Sentiment Analysis\n"
     ]
    }
   ],
   "source": [
    "import os\n",
    "print(os.getcwd())\n"
   ]
  },
  {
   "cell_type": "code",
   "execution_count": 2,
   "id": "8e017929-3425-4067-9b20-98f05852570d",
   "metadata": {},
   "outputs": [
    {
     "name": "stdout",
     "output_type": "stream",
     "text": [
      "['imdb.vocab', 'imdbEr.txt', 'README', 'test', 'train']\n"
     ]
    }
   ],
   "source": [
    "import os\n",
    "\n",
    "# Set the path to the dataset\n",
    "dataset_path = \"aclImdb/\"\n",
    "\n",
    "# Check the contents of the folder\n",
    "print(os.listdir(dataset_path))\n"
   ]
  },
  {
   "cell_type": "code",
   "execution_count": 3,
   "id": "a4563311-f560-4c43-9428-c7e5e04c5511",
   "metadata": {},
   "outputs": [
    {
     "name": "stdout",
     "output_type": "stream",
     "text": [
      "Train Subfolders: ['labeledBow.feat', 'neg', 'pos', 'unsup', 'unsupBow.feat', 'urls_neg.txt', 'urls_pos.txt', 'urls_unsup.txt']\n",
      "Test Subfolders: ['labeledBow.feat', 'neg', 'pos', 'urls_neg.txt', 'urls_pos.txt']\n"
     ]
    }
   ],
   "source": [
    "import os\n",
    "\n",
    "# Define paths\n",
    "train_path = \"aclImdb/train\"\n",
    "test_path = \"aclImdb/test\"\n",
    "\n",
    "# Check subfolders\n",
    "print(\"Train Subfolders:\", os.listdir(train_path))\n",
    "print(\"Test Subfolders:\", os.listdir(test_path))\n"
   ]
  },
  {
   "cell_type": "code",
   "execution_count": 4,
   "id": "aeb63525-4b2d-4c3b-8eaf-ed328881af95",
   "metadata": {},
   "outputs": [
    {
     "name": "stdout",
     "output_type": "stream",
     "text": [
      "                                              review sentiment\n",
      "0  Bromwell High is a cartoon comedy. It ran at t...  positive\n",
      "1  Homelessness (or Houselessness as George Carli...  positive\n",
      "2  Brilliant over-acting by Lesley Ann Warren. Be...  positive\n",
      "3  This is easily the most underrated film inn th...  positive\n",
      "4  This is not the typical Mel Brooks film. It wa...  positive\n"
     ]
    }
   ],
   "source": [
    "import pandas as pd\n",
    "\n",
    "# Function to load reviews\n",
    "def load_reviews(directory, sentiment):\n",
    "    reviews = []\n",
    "    folder = os.path.join(directory, sentiment)\n",
    "    for filename in os.listdir(folder):\n",
    "        with open(os.path.join(folder, filename), encoding=\"utf-8\") as file:\n",
    "            reviews.append(file.read())\n",
    "    return reviews\n",
    "\n",
    "# Load train data\n",
    "pos_reviews = load_reviews(train_path, \"pos\")\n",
    "neg_reviews = load_reviews(train_path, \"neg\")\n",
    "\n",
    "# Create a DataFrame\n",
    "data = pd.DataFrame({\n",
    "    \"review\": pos_reviews + neg_reviews,\n",
    "    \"sentiment\": [\"positive\"] * len(pos_reviews) + [\"negative\"] * len(neg_reviews)\n",
    "})\n",
    "\n",
    "print(data.head())\n"
   ]
  },
  {
   "cell_type": "code",
   "execution_count": 5,
   "id": "10b04d5c-3634-417a-bb20-3f167e2f6963",
   "metadata": {},
   "outputs": [
    {
     "name": "stdout",
     "output_type": "stream",
     "text": [
      "Index(['review', 'sentiment'], dtype='object')\n"
     ]
    }
   ],
   "source": [
    "# Check the columns of the dataset\n",
    "print(data.columns)\n"
   ]
  },
  {
   "cell_type": "code",
   "execution_count": 6,
   "id": "6f99723d-61a3-4edd-b46b-d4b3d81b3e5e",
   "metadata": {},
   "outputs": [
    {
     "name": "stdout",
     "output_type": "stream",
     "text": [
      "['imdb.vocab', 'imdbEr.txt', 'README', 'test', 'train']\n"
     ]
    }
   ],
   "source": [
    "import os\n",
    "print(os.listdir('aclImdb'))\n"
   ]
  },
  {
   "cell_type": "code",
   "execution_count": 7,
   "id": "f856cbca-96e8-4f4e-b951-3f0d7121d830",
   "metadata": {},
   "outputs": [
    {
     "name": "stdout",
     "output_type": "stream",
     "text": [
      "['labeledBow.feat', 'neg', 'pos', 'unsup', 'unsupBow.feat', 'urls_neg.txt', 'urls_pos.txt', 'urls_unsup.txt']\n",
      "['labeledBow.feat', 'neg', 'pos', 'urls_neg.txt', 'urls_pos.txt']\n"
     ]
    }
   ],
   "source": [
    "print(os.listdir('aclImdb/train'))\n",
    "print(os.listdir('aclImdb/test'))\n"
   ]
  },
  {
   "cell_type": "code",
   "execution_count": 8,
   "id": "2776a49b-725f-43a4-b2f5-7b9629a95711",
   "metadata": {},
   "outputs": [
    {
     "name": "stdout",
     "output_type": "stream",
     "text": [
      "                                              review  sentiment\n",
      "0  Bromwell High is a cartoon comedy. It ran at t...          1\n",
      "1  Homelessness (or Houselessness as George Carli...          1\n",
      "2  Brilliant over-acting by Lesley Ann Warren. Be...          1\n",
      "3  This is easily the most underrated film inn th...          1\n",
      "4  This is not the typical Mel Brooks film. It wa...          1\n",
      "                                              review  sentiment\n",
      "0  I went and saw this movie last night after bei...          1\n",
      "1  Actor turned director Bill Paxton follows up h...          1\n",
      "2  As a recreational golfer with some knowledge o...          1\n",
      "3  I saw this film in a sneak preview, and it is ...          1\n",
      "4  Bill Paxton has taken the true story of the 19...          1\n"
     ]
    }
   ],
   "source": [
    "import os\n",
    "import pandas as pd\n",
    "\n",
    "# Function to read reviews from a folder (positive or negative)\n",
    "def load_reviews_from_folder(folder, sentiment):\n",
    "    reviews = []\n",
    "    for filename in os.listdir(folder):\n",
    "        with open(os.path.join(folder, filename), 'r', encoding='utf-8') as file:\n",
    "            reviews.append((file.read(), sentiment))\n",
    "    return reviews\n",
    "\n",
    "# Path to the 'train' directory\n",
    "train_pos_dir = 'aclImdb/train/pos'\n",
    "train_neg_dir = 'aclImdb/train/neg'\n",
    "\n",
    "# Load positive and negative reviews for training\n",
    "positive_reviews_train = load_reviews_from_folder(train_pos_dir, 1)  # 1 for positive sentiment\n",
    "negative_reviews_train = load_reviews_from_folder(train_neg_dir, 0)  # 0 for negative sentiment\n",
    "\n",
    "# Combine the reviews and their labels\n",
    "train_reviews = positive_reviews_train + negative_reviews_train\n",
    "\n",
    "# Convert to a DataFrame for easier manipulation\n",
    "train_data = pd.DataFrame(train_reviews, columns=['review', 'sentiment'])\n",
    "\n",
    "# Check the first few rows of the training data\n",
    "print(train_data.head())\n",
    "\n",
    "# Repeat the process for the test set (if needed)\n",
    "test_pos_dir = 'aclImdb/test/pos'\n",
    "test_neg_dir = 'aclImdb/test/neg'\n",
    "\n",
    "positive_reviews_test = load_reviews_from_folder(test_pos_dir, 1)\n",
    "negative_reviews_test = load_reviews_from_folder(test_neg_dir, 0)\n",
    "\n",
    "test_reviews = positive_reviews_test + negative_reviews_test\n",
    "test_data = pd.DataFrame(test_reviews, columns=['review', 'sentiment'])\n",
    "\n",
    "# Check the test data\n",
    "print(test_data.head())\n"
   ]
  },
  {
   "cell_type": "code",
   "execution_count": 9,
   "id": "773fc5c1-9d99-4700-9cc2-e2329178cf83",
   "metadata": {},
   "outputs": [
    {
     "name": "stdout",
     "output_type": "stream",
     "text": [
      "                                              review  sentiment\n",
      "0  Bromwell High is a cartoon comedy. It ran at t...          1\n",
      "1  Homelessness (or Houselessness as George Carli...          1\n",
      "2  Brilliant over-acting by Lesley Ann Warren. Be...          1\n",
      "3  This is easily the most underrated film inn th...          1\n",
      "4  This is not the typical Mel Brooks film. It wa...          1\n",
      "                                              review  sentiment\n",
      "0  I went and saw this movie last night after bei...          1\n",
      "1  Actor turned director Bill Paxton follows up h...          1\n",
      "2  As a recreational golfer with some knowledge o...          1\n",
      "3  I saw this film in a sneak preview, and it is ...          1\n",
      "4  Bill Paxton has taken the true story of the 19...          1\n"
     ]
    }
   ],
   "source": [
    "import os\n",
    "import pandas as pd\n",
    "\n",
    "# Function to read reviews from a folder (positive or negative)\n",
    "def load_reviews_from_folder(folder, sentiment):\n",
    "    reviews = []\n",
    "    for filename in os.listdir(folder):\n",
    "        with open(os.path.join(folder, filename), 'r', encoding='utf-8') as file:\n",
    "            reviews.append((file.read(), sentiment))\n",
    "    return reviews\n",
    "\n",
    "# Path to the 'train' directory\n",
    "train_pos_dir = 'aclImdb/train/pos'\n",
    "train_neg_dir = 'aclImdb/train/neg'\n",
    "\n",
    "# Load positive and negative reviews for training\n",
    "positive_reviews_train = load_reviews_from_folder(train_pos_dir, 1)  # 1 for positive sentiment\n",
    "negative_reviews_train = load_reviews_from_folder(train_neg_dir, 0)  # 0 for negative sentiment\n",
    "\n",
    "# Combine the reviews and their labels\n",
    "train_reviews = positive_reviews_train + negative_reviews_train\n",
    "\n",
    "# Convert to a DataFrame for easier manipulation\n",
    "train_data = pd.DataFrame(train_reviews, columns=['review', 'sentiment'])\n",
    "\n",
    "# Check the first few rows of the training data\n",
    "print(train_data.head())\n",
    "\n",
    "# Repeat the process for the test set (if needed)\n",
    "test_pos_dir = 'aclImdb/test/pos'\n",
    "test_neg_dir = 'aclImdb/test/neg'\n",
    "\n",
    "positive_reviews_test = load_reviews_from_folder(test_pos_dir, 1)\n",
    "negative_reviews_test = load_reviews_from_folder(test_neg_dir, 0)\n",
    "\n",
    "test_reviews = positive_reviews_test + negative_reviews_test\n",
    "test_data = pd.DataFrame(test_reviews, columns=['review', 'sentiment'])\n",
    "\n",
    "# Check the test data\n",
    "print(test_data.head())\n"
   ]
  },
  {
   "cell_type": "code",
   "execution_count": 11,
   "id": "2327d201-08ed-4e56-97fd-b8f29e0bf7bf",
   "metadata": {},
   "outputs": [
    {
     "name": "stderr",
     "output_type": "stream",
     "text": [
      "[nltk_data] Downloading package punkt to\n",
      "[nltk_data]     C:\\Users\\allei\\AppData\\Roaming\\nltk_data...\n",
      "[nltk_data]   Package punkt is already up-to-date!\n",
      "[nltk_data] Downloading package stopwords to\n",
      "[nltk_data]     C:\\Users\\allei\\AppData\\Roaming\\nltk_data...\n",
      "[nltk_data]   Package stopwords is already up-to-date!\n"
     ]
    },
    {
     "name": "stdout",
     "output_type": "stream",
     "text": [
      "                                              review  \\\n",
      "0  Bromwell High is a cartoon comedy. It ran at t...   \n",
      "1  Homelessness (or Houselessness as George Carli...   \n",
      "2  Brilliant over-acting by Lesley Ann Warren. Be...   \n",
      "3  This is easily the most underrated film inn th...   \n",
      "4  This is not the typical Mel Brooks film. It wa...   \n",
      "\n",
      "                                    processed_review  \n",
      "0  bromwel high cartoon comedi ran time program s...  \n",
      "1  homeless houseless georg carlin state issu yea...  \n",
      "2  brilliant overact lesley ann warren best drama...  \n",
      "3  easili underr film inn brook cannon sure flaw ...  \n",
      "4  typic mel brook film much less slapstick movi ...  \n",
      "                                              review  \\\n",
      "0  I went and saw this movie last night after bei...   \n",
      "1  Actor turned director Bill Paxton follows up h...   \n",
      "2  As a recreational golfer with some knowledge o...   \n",
      "3  I saw this film in a sneak preview, and it is ...   \n",
      "4  Bill Paxton has taken the true story of the 19...   \n",
      "\n",
      "                                    processed_review  \n",
      "0  went saw movi last night coax friend mine ill ...  \n",
      "1  actor turn director bill paxton follow promis ...  \n",
      "2  recreat golfer knowledg sport histori pleas di...  \n",
      "3  saw film sneak preview delight cinematographi ...  \n",
      "4  bill paxton taken true stori us golf open made...  \n"
     ]
    }
   ],
   "source": [
    "import nltk\n",
    "from nltk.corpus import stopwords\n",
    "from nltk.tokenize import word_tokenize\n",
    "from nltk.stem import PorterStemmer\n",
    "import re\n",
    "\n",
    "# Download the necessary NLTK resources\n",
    "nltk.download('punkt')\n",
    "nltk.download('stopwords')\n",
    "\n",
    "# Initialize the stemmer\n",
    "ps = PorterStemmer()\n",
    "\n",
    "# Preprocess function to clean and prepare the text\n",
    "def preprocess_review(review):\n",
    "    # Remove non-alphabet characters (special characters, numbers, etc.)\n",
    "    review = re.sub(r'[^a-zA-Z\\s]', '', review)\n",
    "    \n",
    "    # Tokenize the review (convert to lowercase and tokenize)\n",
    "    words = word_tokenize(review.lower())\n",
    "    \n",
    "    # Remove stopwords and apply stemming\n",
    "    words = [ps.stem(word) for word in words if word not in stopwords.words('english')]\n",
    "    \n",
    "    return \" \".join(words)\n",
    "\n",
    "# Apply the preprocessing to both train and test datasets\n",
    "train_data['processed_review'] = train_data['review'].apply(preprocess_review)\n",
    "test_data['processed_review'] = test_data['review'].apply(preprocess_review)\n",
    "\n",
    "# Check the processed data\n",
    "print(train_data[['review', 'processed_review']].head())\n",
    "print(test_data[['review', 'processed_review']].head())\n"
   ]
  },
  {
   "cell_type": "code",
   "execution_count": 12,
   "id": "1f5a7323-6f50-4f40-a53d-4b315cad1fc0",
   "metadata": {},
   "outputs": [
    {
     "name": "stdout",
     "output_type": "stream",
     "text": [
      "(25000, 89464) (25000, 89464)\n"
     ]
    }
   ],
   "source": [
    "from sklearn.feature_extraction.text import TfidfVectorizer\n",
    "\n",
    "# Initialize the TF-IDF Vectorizer\n",
    "vectorizer = TfidfVectorizer()\n",
    "\n",
    "# Fit and transform the training data, and transform the test data\n",
    "X_train = vectorizer.fit_transform(train_data['processed_review'])\n",
    "X_test = vectorizer.transform(test_data['processed_review'])\n",
    "\n",
    "# Check the shape of the resulting matrices\n",
    "print(X_train.shape, X_test.shape)\n"
   ]
  },
  {
   "cell_type": "code",
   "execution_count": 13,
   "id": "f8ffd113-8bdc-46f8-b9d7-6fe1774e0d3b",
   "metadata": {},
   "outputs": [],
   "source": [
    "y_train = train_data['sentiment']\n",
    "y_test = test_data['sentiment']\n"
   ]
  },
  {
   "cell_type": "code",
   "execution_count": 14,
   "id": "f31a0d00-f0f2-4440-8ba4-e04b13733032",
   "metadata": {},
   "outputs": [
    {
     "name": "stdout",
     "output_type": "stream",
     "text": [
      "Accuracy: 87.64%\n"
     ]
    }
   ],
   "source": [
    "from sklearn.linear_model import LogisticRegression\n",
    "\n",
    "# Initialize the Logistic Regression model\n",
    "model = LogisticRegression()\n",
    "\n",
    "# Train the model\n",
    "model.fit(X_train, y_train)\n",
    "\n",
    "# Test the model and print accuracy\n",
    "accuracy = model.score(X_test, y_test)\n",
    "print(f'Accuracy: {accuracy * 100:.2f}%')\n"
   ]
  },
  {
   "cell_type": "code",
   "execution_count": 15,
   "id": "acbd2062-1b22-4095-ad6d-f13f1e19e071",
   "metadata": {},
   "outputs": [
    {
     "data": {
      "text/plain": [
       "['vectorizer.pkl']"
      ]
     },
     "execution_count": 15,
     "metadata": {},
     "output_type": "execute_result"
    }
   ],
   "source": [
    "import joblib\n",
    "\n",
    "# Save the trained model\n",
    "joblib.dump(model, 'sentiment_model.pkl')\n",
    "\n",
    "# Save the vectorizer\n",
    "joblib.dump(vectorizer, 'vectorizer.pkl')\n"
   ]
  },
  {
   "cell_type": "code",
   "execution_count": 16,
   "id": "a8725865-3e26-4b31-8574-fa598fa4a255",
   "metadata": {},
   "outputs": [
    {
     "name": "stdout",
     "output_type": "stream",
     "text": [
      "Prediction: Positive\n"
     ]
    }
   ],
   "source": [
    "# Load the saved model and vectorizer\n",
    "model = joblib.load('sentiment_model.pkl')\n",
    "vectorizer = joblib.load('vectorizer.pkl')\n",
    "\n",
    "# Example new review for prediction\n",
    "new_review = [\"I absolutely loved this movie, it was amazing!\"]\n",
    "\n",
    "# Preprocess the new review\n",
    "new_review_processed = preprocess_review(new_review[0])\n",
    "\n",
    "# Vectorize the preprocessed review\n",
    "new_review_vec = vectorizer.transform([new_review_processed])\n",
    "\n",
    "# Predict sentiment (0 for negative, 1 for positive)\n",
    "prediction = model.predict(new_review_vec)\n",
    "\n",
    "# Print the result\n",
    "print(f\"Prediction: {'Positive' if prediction[0] == 1 else 'Negative'}\")\n"
   ]
  },
  {
   "cell_type": "code",
   "execution_count": 17,
   "id": "60e28e0e-d5e5-42b9-889d-b63c02d0af39",
   "metadata": {},
   "outputs": [],
   "source": [
    "import pickle\n",
    "\n",
    "# Assuming 'model' is your trained classifier\n",
    "with open(\"sentiment_model.pkl\", \"wb\") as file:\n",
    "    pickle.dump(model, file)\n"
   ]
  },
  {
   "cell_type": "code",
   "execution_count": 18,
   "id": "0f74f1ec-b54f-44f0-a55d-db3ac1a07477",
   "metadata": {},
   "outputs": [],
   "source": [
    "import pickle\n",
    "\n",
    "with open(\"sentiment_model.pkl\", \"rb\") as file:\n",
    "    model = pickle.load(file)\n"
   ]
  },
  {
   "cell_type": "code",
   "execution_count": 19,
   "id": "3b9dc382-6d78-4de0-be45-22eafd0f6e57",
   "metadata": {},
   "outputs": [],
   "source": [
    "import pickle\n",
    "\n",
    "# Assuming 'vectorizer' is your trained vectorizer object\n",
    "with open(\"vectorizer.pkl\", \"wb\") as file:\n",
    "    pickle.dump(vectorizer, file)\n"
   ]
  },
  {
   "cell_type": "code",
   "execution_count": 20,
   "id": "d3272190-0336-4d47-9cf9-901e3eafcf02",
   "metadata": {},
   "outputs": [
    {
     "name": "stdout",
     "output_type": "stream",
     "text": [
      " Volume in drive C is Windows-SSD\n",
      " Volume Serial Number is 884A-44EF\n",
      "\n",
      " Directory of c:\\Users\\allei\\Documents\\Movie Sentiment Analysis\n",
      "\n",
      "03-01-2025  15:02    <DIR>          .\n",
      "29-12-2024  10:40    <DIR>          ..\n",
      "03-01-2025  00:11                90 .gitattributes\n",
      "03-01-2025  00:01                 9 .gitignore\n",
      "29-12-2024  11:47    <DIR>          .ipynb_checkpoints\n",
      "03-01-2025  00:17                10 .vercelignore\n",
      "26-06-2011  06:38    <DIR>          aclImdb\n",
      "03-01-2025  13:30             3,400 app.py\n",
      "03-01-2025  15:02            18,892 msa.ipynb\n",
      "03-01-2025  00:04             2,643 README.md\n",
      "03-01-2025  13:17                97 requirements.txt\n",
      "03-01-2025  15:02           716,445 sentiment_model.pkl\n",
      "30-12-2024  14:26    <DIR>          static\n",
      "01-01-2025  23:56    <DIR>          templates\n",
      "03-01-2025  15:02         2,026,750 vectorizer.pkl\n",
      "03-01-2025  13:45    <DIR>          venv\n",
      "               9 File(s)      2,768,336 bytes\n",
      "               7 Dir(s)  117,700,005,888 bytes free\n"
     ]
    }
   ],
   "source": [
    "ls\n"
   ]
  },
  {
   "cell_type": "code",
   "execution_count": null,
   "id": "9523ca9c-284a-4666-95be-39538cd4e0a9",
   "metadata": {},
   "outputs": [],
   "source": []
  },
  {
   "cell_type": "code",
   "execution_count": null,
   "id": "760dbdec-41fe-488f-adba-c6e4ce66f618",
   "metadata": {},
   "outputs": [],
   "source": []
  }
 ],
 "metadata": {
  "kernelspec": {
   "display_name": "venv",
   "language": "python",
   "name": "python3"
  },
  "language_info": {
   "codemirror_mode": {
    "name": "ipython",
    "version": 3
   },
   "file_extension": ".py",
   "mimetype": "text/x-python",
   "name": "python",
   "nbconvert_exporter": "python",
   "pygments_lexer": "ipython3",
   "version": "3.12.8"
  }
 },
 "nbformat": 4,
 "nbformat_minor": 5
}
